{
 "cells": [
  {
   "cell_type": "markdown",
   "id": "6df41867-a9a6-4467-8272-22e179c3d31f",
   "metadata": {},
   "source": [
    "# Getting started tutorial"
   ]
  },
  {
   "cell_type": "markdown",
   "id": "9bffbcf9-18ef-445c-8638-bd1d096c4c16",
   "metadata": {},
   "source": [
    "The Model Live Diagnostics framework is designed to provide useful and practical Jupyter-based tools for the monitoring and diagnostic analyses of currently running (aka ‘live’) ACCESS climate models on the Australian NCI supercomputer Gadi.\n",
    "\n",
    "The ACCESS-NRI Model Live Diagnostics package, and the tools that support it, are still a work in progress. We value your feedback, especially in the form of reporting issues/bugs or suggesting ways to improve the framework. To do so, please open an issue [here](https://github.com/ACCESS-NRI/MED-live-diagnostics/issues).\n",
    "\n",
    "## What does this package do?\n",
    "\n",
    "The primary purpose of the ACCESS-NRI Model Live Diagnostics package is to provide a simple, easy to use and accessible framework for the ACCESS modelling community to check, monitor, visualise and evaluate model behaviour and progress on currently running or ‘live’ ACCESS models on the Australian NCI supercomputer Gadi. In addition to monitoring a live model, the package provides the functionality to load, visualise and compare legacy ACCESS model data with the selected live user model.\n",
    "\n",
    "This package is currently in active development within the Model Evaluation Team at the Australian Earth System Symulator (ACCESS-NRI) so watch this space for version updates containing new features, model diagnostics tools and visualisation options!\n",
    "\n",
    "The full docs for MLD can be found [here](https://med-live-diagnostics.readthedocs.io/en/latest/med_diagnostics.html#module-med_diagnostics.session).\n",
    "\n",
    "------------------"
   ]
  },
  {
   "cell_type": "markdown",
   "id": "f55c537e-6eac-4c7e-a85e-3893c26a1551",
   "metadata": {},
   "source": [
    "### 1. Set up access \n",
    "First, lets import the <i>med_diagnostics</i> package that has been cloned to an accessbile project location on Gadi"
   ]
  },
  {
   "cell_type": "code",
   "execution_count": 1,
   "id": "400dbc85-5735-41bb-808a-128a4f83a309",
   "metadata": {},
   "outputs": [],
   "source": [
    "# Append cloned package path to system path\n",
    "import sys\n",
    "sys.path.append('/g/data/ [path/to/your/project/directory] /med-live_diagnostics/src')\n",
    "\n",
    "# Import med_diagnostics package for local Gadi location\n",
    "import med_diagnostics\n",
    "\n",
    "# Import to display tutorial images only\n",
    "from IPython.display import Image"
   ]
  },
  {
   "cell_type": "markdown",
   "id": "8937af71-2dd9-4265-b2b1-76881eb16eef",
   "metadata": {},
   "source": [
    "### 2. Create live model session\n",
    " - model_type: str (Type of ACCESS model (e.g. CM2, OM2)).\n",
    " - model_path: str (Path to model output directory/files on Gadi.)\n",
    "\n",
    "#### Optional:\n",
    "- period: int/float/str (Period in minutes for background scheduler to monitor model_path for new data. If period=None, defaults to 60).\n",
    "- timezone: str (Timezone required for scheduler in tinfo 'Region/Location' format. Default = 'Australia/Canberra')\n",
    "\n",
    "##### The <b>CreateModelDiagnosticsSession()</b> class instance triggers the following tasks in the background:\n",
    "\n",
    "- Start the <i>background scheduler</i> to check for data at the nominted period\n",
    "- Start the <i>dask</i> cluster\n",
    "- Retrieve the most up to date nominated model data and build a new ESM datastore. N.B. This is saved as a compressed *.csv in the user's $HOME directory on Gadi\n",
    "- Creates both the <span style=\"color:lightblue\">blue</span> 'status' and <span style=\"color:orange\">orange</span> 'catalog' information boxes."
   ]
  },
  {
   "cell_type": "code",
   "execution_count": 11,
   "id": "85b8e917-1704-4183-8bda-14e9515081c6",
   "metadata": {
    "tags": []
   },
   "outputs": [],
   "source": [
    "session = med_diagnostics.session.CreateModelDiagnosticsSession(model_type='CM2', \n",
    "                                                                model_path='path/to/your/live/model/data/output', \n",
    "                                                                period=5)"
   ]
  },
  {
   "cell_type": "markdown",
   "id": "8e3fd80f-c423-430a-b08a-df66b61fc80c",
   "metadata": {},
   "source": [
    "### 3. Using the interface\n",
    "\n",
    "i) Once a session is started, you will see the following sesion summary and <span style=\"color:lightblue\">blue</span> status message while the new intake catalog is being built from the live model data. Depending on the size of the model data, this can take a number of minutes. The dask cluster address (in this case: /proxy/40595/status) can be used to monitor data retrieval by adding it to the 'Dask Dashboard URL' found in the left panel.\n",
    "<div>\n",
    "<img src=\"https://raw.githubusercontent.com/ACCESS-NRI/MED-live-diagnostics/main/docs/notebooks/assets/tutorial_image_1.png\" width=\"100%\", border=1, bordercolor='white'/>\n",
    "</div>\n",
    "<br></br>\n",
    "\n",
    "ii) Once the live model data catalog has been successfully built, the <span style=\"color:lightblue\">blue</span> status message will update and the <span style=\"color:orange\">orange</span> status message will report the time and date of the last live model catalog build.  \n",
    "<div>\n",
    "<img src=\"https://raw.githubusercontent.com/ACCESS-NRI/MED-live-diagnostics/main/docs/notebooks/assets/tutorial_image_2.png\" width=\"100%\", border=1, bordercolor='white'/>\n",
    "</div>\n",
    "<br></br>\n",
    "\n",
    "iii) All available datasets from the selected model will be listed in the dropdown. Select the dataset you wish to monitor and click 'Load dataset'.\n",
    "<div>\n",
    "<img src=\"https://raw.githubusercontent.com/ACCESS-NRI/MED-live-diagnostics/main/docs/notebooks/assets/tutorial_image_3.png\" width=\"100%\", border=1, bordercolor='white'/>\n",
    "</div>\n",
    "<br></br>\n",
    "\n",
    "iv) Once loaded, a plot displaying the first data variable in the list will appear. Use the dropdown list to select and plot any available model variables.\n",
    "<div>\n",
    "<img src=\"https://raw.githubusercontent.com/ACCESS-NRI/MED-live-diagnostics/main/docs/notebooks/assets/tutorial_image_4.png\" width=\"100%\", border=1, bordercolor='white'/>\n",
    "</div>\n",
    "<br></br>\n",
    "\n",
    "#### Optional: \n",
    "The live model data can be compared with any alternative/legacy ACCESS models of the same type (i.e. CM2, OM2 etc) found within the [ACCESS-NRI Intake Catalog](https://github.com/ACCESS-NRI/access-nri-intake-catalog).\n",
    "\n",
    "v) The reference model dropdown menu is pre-filled with all available models of the same type from the [ACCESS-NRI Intake Catalog](https://github.com/ACCESS-NRI/access-nri-intake-catalog) (in this example the list contains all models of type 'CM2'). Select the reference model of choice and click 'Load model'.\n",
    "<div>\n",
    "<img src=\"https://raw.githubusercontent.com/ACCESS-NRI/MED-live-diagnostics/main/docs/notebooks/assets/tutorial_image_5.png\" width=\"100%\", border=1, bordercolor='white'/>\n",
    "</div>\n",
    "<br></br>\n",
    "\n",
    "vi) If an optional reference model has been selected, a reference dataset dropdown menu will appear displaying all available datasets from the selected reference model. Select the dataset you wish to monitor and click 'Load dataset'.\n",
    "<div>\n",
    "<img src=\"https://raw.githubusercontent.com/ACCESS-NRI/MED-live-diagnostics/main/docs/notebooks/assets/tutorial_image_6.png\" width=\"100%\", border=1, bordercolor='white'/>\n",
    "</div>\n",
    "<br></br>\n",
    "\n",
    "vii) Once loaded, a plot displaying the first data variable in the list will appear. Use the dropdown list to select and plot any available reference model variables. N.B. Unlike the live model plot above, if multiple flavours of a particular model exist (e.g. b7578a, by578b etc), all variants will be displayed.\n",
    "<div>\n",
    "<img src=\"https://raw.githubusercontent.com/ACCESS-NRI/MED-live-diagnostics/main/docs/notebooks/assets/tutorial_image_7.png\" width=\"100%\", border=1, bordercolor='white'/>\n",
    "</div>\n",
    "<br></br>"
   ]
  },
  {
   "cell_type": "markdown",
   "id": "02b41227-4e15-48cd-a1fa-313ce802849a",
   "metadata": {},
   "source": [
    "### 4. End live model session\n",
    "\n",
    "The safest way to end the current live session is to use the <i>session.end_session()</i> function which ends both the <i>dask</i> and <i>background scheduler</i> processes."
   ]
  },
  {
   "cell_type": "code",
   "execution_count": 1,
   "id": "d23c5156-d160-400d-9aa1-12081d119df4",
   "metadata": {
    "tags": []
   },
   "outputs": [],
   "source": [
    "session.end_session()"
   ]
  }
 ],
 "metadata": {
  "kernelspec": {
   "display_name": "Python 3 (ipykernel)",
   "language": "python",
   "name": "python3"
  },
  "language_info": {
   "codemirror_mode": {
    "name": "ipython",
    "version": 3
   },
   "file_extension": ".py",
   "mimetype": "text/x-python",
   "name": "python",
   "nbconvert_exporter": "python",
   "pygments_lexer": "ipython3",
   "version": "3.9.16"
  }
 },
 "nbformat": 4,
 "nbformat_minor": 5
}
